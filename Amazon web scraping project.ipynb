{
 "cells": [
  {
   "cell_type": "code",
   "execution_count": 17,
   "id": "d702aa01",
   "metadata": {},
   "outputs": [],
   "source": [
    "# Import Labraries \n",
    "from bs4 import BeautifulSoup\n",
    "import requests \n",
    "import time\n",
    "import datetime\n",
    "\n",
    "import smtplib"
   ]
  },
  {
   "cell_type": "code",
   "execution_count": 16,
   "id": "2c525f1a",
   "metadata": {},
   "outputs": [
    {
     "name": "stdout",
     "output_type": "stream",
     "text": [
      "\n",
      "             Vitamix Ascent X2 Blender, Professional-Grade, 3 Preset Blending Programs, 48-ounce Container, Self-Cleaning, Polar White\n",
      "            \n",
      "\n",
      "                           $549.95\n",
      "                          \n"
     ]
    }
   ],
   "source": [
    "# connect to webpage\n",
    "\n",
    "URL = 'https://www.amazon.com/Vitamix-Professional-Grade-Blending-Container-Self-Cleaning/dp/B0D9ZKD231/ref=sr_1_1_sspa?crid=39B0321M8LT36&dib=eyJ2IjoiMSJ9.kRI4IQl5MGOT2UlIMOmfxKqCv4uF5f9AQc86n22IGJD5Mpq2y_7m8ysHAg2KMSU_idYRII1huYVGQK4eB8eQTtD3JBcN4_sAoe55FngNimRxz5SAXiIQUgq5DIDip4smZe6RuZVvEqhu9uJhRq-II1Ngs-BZxVMjtdInkYyrlz_3ojvBOuHVR6Y-wNyPOJ7r8KKb8i8TtmcQOwCm36eVaa7SozPIIufDdqoN5cm-B6IRzkL7-0puw9J3oBgGCrysOfpMsAt03GsraKDzsqyJQewe3QOzfJL_nU2XnMIshWA.n15ptnBNEZsc76OR4v3UVji2VOo-5k29Df7kRbMVnhw&dib_tag=se&keywords=blenders+for+kitchen&qid=1725661345&s=appliances&sprefix=blender%2Cappliances%2C531&sr=1-1-spons&sp_csd=d2lkZ2V0TmFtZT1zcF9hdGY&psc=1'\n",
    "\n",
    "headers = {\"User-Agent\": \"Mozilla/5.0 (Windows NT 10.0; Win64; x64) AppleWebKit/537.36 (KHTML, like Gecko) Chrome/127.0.0.0 Safari/537.36\", \"Accept-Encoding\": \"gzip, deflate, br, zstd\", \"Accept\": \"text/html,application/xhtml+xml,application/xml;q=0.9,image/avif,image/webp,image/apng,*/*;q=0.8,application/signed-exchange;v=b3;q=0.7\", \"Upgrade-Insecure-Requests\": \"1\"}\n",
    "\n",
    "page = requests.get(URL, headers=headers)\n",
    "\n",
    "\n",
    "soup1 = BeautifulSoup(page.content, 'html.parser')\n",
    "\n",
    "soup2 = BeautifulSoup(soup1.prettify(), 'html.parser')\n",
    "\n",
    "title = soup2.find(id='productTitle').get_text()\n",
    "\n",
    "price = soup2.find('span', {'class': 'a-offscreen'}).get_text()\n",
    "\n",
    "print(title)\n",
    "print(price)\n"
   ]
  },
  {
   "cell_type": "code",
   "execution_count": 18,
   "id": "48fc9691",
   "metadata": {},
   "outputs": [
    {
     "name": "stdout",
     "output_type": "stream",
     "text": [
      "Vitamix Ascent X2 Blender, Professional-Grade, 3 Preset Blending Programs, 48-ounce Container, Self-Cleaning, Polar White\n",
      "$549.95\n"
     ]
    }
   ],
   "source": [
    "# clean up data\n",
    "Price = price.strip()\n",
    "Title = title.strip()\n",
    "\n",
    "print(Title)\n",
    "print(Price)"
   ]
  },
  {
   "cell_type": "code",
   "execution_count": 70,
   "id": "cb88306e",
   "metadata": {},
   "outputs": [
    {
     "name": "stdout",
     "output_type": "stream",
     "text": [
      "2024-09-07\n"
     ]
    }
   ],
   "source": [
    "# create a Timestamp to track when the data was collected\n",
    "\n",
    "today = datetime.date.today()\n",
    "\n",
    "print(today)"
   ]
  },
  {
   "cell_type": "code",
   "execution_count": null,
   "id": "76189f7e",
   "metadata": {},
   "outputs": [],
   "source": [
    "# Create CSV and write header and data into a file\n",
    "\n",
    "import csv\n",
    "\n",
    "header = ['Title', 'Price', 'Date']\n",
    "data = [Title, Price, today]\n",
    "\n",
    "with open('AmazonpagescrapingDataset.csv', 'w', newline='', encoding='UTF8') as f:\n",
    "    writer = csv.writer(f)\n",
    "    writer.writerow(header)\n",
    "    writer.writerow(data)"
   ]
  },
  {
   "cell_type": "code",
   "execution_count": 74,
   "id": "8aa6b9f6",
   "metadata": {},
   "outputs": [
    {
     "name": "stdout",
     "output_type": "stream",
     "text": [
      "                                               Title    Price        Date\n",
      "0  Vitamix Ascent X2 Blender, Professional-Grade,...  $549.95  2024-09-07\n"
     ]
    }
   ],
   "source": [
    "import pandas as pd\n",
    "    \n",
    "df = pd.read_csv(r'C:\\Users\\HP\\AmazonpagescrapingDataset.csv')\n",
    "\n",
    "print(df)\n"
   ]
  },
  {
   "cell_type": "code",
   "execution_count": 75,
   "id": "1f0cd669",
   "metadata": {},
   "outputs": [],
   "source": [
    "# Appending data to csv\n",
    "\n",
    "with open('AmazonpagescrapingDataset.csv', 'a+', newline='', encoding='UTF8') as f:\n",
    "    writer = csv.writer(f)\n",
    "    writer.writerow(data)"
   ]
  },
  {
   "cell_type": "code",
   "execution_count": null,
   "id": "80e64a36",
   "metadata": {},
   "outputs": [],
   "source": [
    "# Combining all codes into one function\n",
    "\n",
    "def check_price():\n",
    "    URL = 'https://www.amazon.com/Vitamix-Professional-Grade-Blending-Container-Self-Cleaning/dp/B0D9ZKD231/ref=sr_1_1_sspa?crid=39B0321M8LT36&dib=eyJ2IjoiMSJ9.kRI4IQl5MGOT2UlIMOmfxKqCv4uF5f9AQc86n22IGJD5Mpq2y_7m8ysHAg2KMSU_idYRII1huYVGQK4eB8eQTtD3JBcN4_sAoe55FngNimRxz5SAXiIQUgq5DIDip4smZe6RuZVvEqhu9uJhRq-II1Ngs-BZxVMjtdInkYyrlz_3ojvBOuHVR6Y-wNyPOJ7r8KKb8i8TtmcQOwCm36eVaa7SozPIIufDdqoN5cm-B6IRzkL7-0puw9J3oBgGCrysOfpMsAt03GsraKDzsqyJQewe3QOzfJL_nU2XnMIshWA.n15ptnBNEZsc76OR4v3UVji2VOo-5k29Df7kRbMVnhw&dib_tag=se&keywords=blenders+for+kitchen&qid=1725661345&s=appliances&sprefix=blender%2Cappliances%2C531&sr=1-1-spons&sp_csd=d2lkZ2V0TmFtZT1zcF9hdGY&psc=1'\n",
    "\n",
    "    headers = {\"User-Agent\": \"Mozilla/5.0 (Windows NT 10.0; Win64; x64) AppleWebKit/537.36 (KHTML, like Gecko) Chrome/127.0.0.0 Safari/537.36\", \"Accept-Encoding\": \"gzip, deflate, br, zstd\", \"Accept\": \"text/html,application/xhtml+xml,application/xml;q=0.9,image/avif,image/webp,image/apng,*/*;q=0.8,application/signed-exchange;v=b3;q=0.7\", \"Upgrade-Insecure-Requests\": \"1\"}\n",
    "\n",
    "    page = requests.get(URL, headers=headers)\n",
    "\n",
    "\n",
    "    soup1 = BeautifulSoup(page.content, 'html.parser')\n",
    "\n",
    "    soup2 = BeautifulSoup(soup1.prettify(), 'html.parser')\n",
    "\n",
    "    title = soup2.find(id='productTitle').get_text()\n",
    "\n",
    "    price = soup2.find('span', {'class': 'a-offscreen'}).get_text()\n",
    "\n",
    "    Price = price.strip()\n",
    "    Title = title.strip()\n",
    "\n",
    "    today = datetime.date.today()\n",
    "\n",
    "    import csv\n",
    "\n",
    "    header = ['Title', 'Price', 'Date']\n",
    "    data = [Title, Price, today]\n",
    "\n",
    "    with open('AmazonpagescrapingDataset.csv', 'a+', newline='', encoding='UTF8') as f:\n",
    "        writer = csv.writer(f)\n",
    "        writer.writerow(data)\n",
    "        "
   ]
  },
  {
   "cell_type": "code",
   "execution_count": null,
   "id": "9d4b18ba",
   "metadata": {},
   "outputs": [],
   "source": [
    "# Runs check_price after 24 hour and input the data\n",
    "\n",
    "while(True):\n",
    "    check_price():\n",
    "    time.sleep(1440)"
   ]
  },
  {
   "cell_type": "code",
   "execution_count": 19,
   "id": "deb7b93c",
   "metadata": {},
   "outputs": [
    {
     "name": "stdout",
     "output_type": "stream",
     "text": [
      "                                               Title    Price        Date\n",
      "0  Vitamix Ascent X2 Blender, Professional-Grade,...  $549.95  2024-09-07\n",
      "1  Vitamix Ascent X2 Blender, Professional-Grade,...  $549.95  2024-09-07\n"
     ]
    }
   ],
   "source": [
    "import pandas as pd\n",
    "    \n",
    "df = pd.read_csv(r'C:\\Users\\HP\\AmazonpagescrapingDataset.csv')\n",
    "\n",
    "print(df)"
   ]
  },
  {
   "cell_type": "code",
   "execution_count": null,
   "id": "b598047b",
   "metadata": {},
   "outputs": [],
   "source": [
    "# Sending yourself a mail when the price of the blender has dropped to $450\n",
    "\n",
    "def send_mail():\n",
    "    server = smtplib.SMTP_SSL('smtp.gmail.com', 465)\n",
    "    server.ehlo()\n",
    "    #server.starttls\n",
    "    server.ehlo()\n",
    "    server.login('ugochifavour123@gmail.com', 'xxxxxxxx')\n",
    "    \n",
    "    subject = 'Hey, today is your lucky day, the blender price is now $450'\n",
    "    body = 'Favour, leverage on this opportunity now, the price might increase'\n",
    "    \n",
    "    msg = f'Subject: {subject}/n/n{body}'\n",
    "    \n",
    "    server.sendmail(\n",
    "        'ugochifavour123@gmail.com',\n",
    "        msg\n",
    "        \n",
    "    )"
   ]
  },
  {
   "cell_type": "code",
   "execution_count": null,
   "id": "769b1681",
   "metadata": {},
   "outputs": [],
   "source": []
  }
 ],
 "metadata": {
  "celltoolbar": "Raw Cell Format",
  "kernelspec": {
   "display_name": "Python 3 (ipykernel)",
   "language": "python",
   "name": "python3"
  },
  "language_info": {
   "codemirror_mode": {
    "name": "ipython",
    "version": 3
   },
   "file_extension": ".py",
   "mimetype": "text/x-python",
   "name": "python",
   "nbconvert_exporter": "python",
   "pygments_lexer": "ipython3",
   "version": "3.11.5"
  }
 },
 "nbformat": 4,
 "nbformat_minor": 5
}
